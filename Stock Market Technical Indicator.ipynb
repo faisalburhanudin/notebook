{
 "cells": [
  {
   "cell_type": "code",
   "execution_count": 58,
   "metadata": {},
   "outputs": [],
   "source": [
    "import seaborn as sns\n",
    "from pyspark.sql import SparkSession, functions, Window"
   ]
  },
  {
   "cell_type": "code",
   "execution_count": 2,
   "metadata": {},
   "outputs": [],
   "source": [
    "def get_session():\n",
    "    return SparkSession \\\n",
    "        .builder \\\n",
    "        .appName('Market Analytics') \\\n",
    "        .getOrCreate()"
   ]
  },
  {
   "cell_type": "code",
   "execution_count": 3,
   "metadata": {},
   "outputs": [],
   "source": [
    "sess = get_session()"
   ]
  },
  {
   "cell_type": "markdown",
   "metadata": {},
   "source": [
    "## Overview datasets"
   ]
  },
  {
   "cell_type": "code",
   "execution_count": 4,
   "metadata": {},
   "outputs": [
    {
     "name": "stdout",
     "output_type": "stream",
     "text": [
      "total 1373216\r\n",
      "-rwxr-xr-x@ 1 faisal  staff  223899 Nov 13  2017 a.us.txt\r\n",
      "-rwxr-xr-x@ 1 faisal  staff  593692 Nov 13  2017 aa.us.txt\r\n",
      "-rwxr-xr-x@ 1 faisal  staff   21911 Nov 13  2017 aaap.us.txt\r\n",
      "-rwxr-xr-x@ 1 faisal  staff  246552 Nov 13  2017 aaba.us.txt\r\n",
      "-rwxr-xr-x@ 1 faisal  staff   33723 Nov 13  2017 aac.us.txt\r\n",
      "-rwxr-xr-x@ 1 faisal  staff   49499 Nov 13  2017 aal.us.txt\r\n",
      "-rwxr-xr-x@ 1 faisal  staff   50642 Nov 13  2017 aamc.us.txt\r\n",
      "-rwxr-xr-x@ 1 faisal  staff  135301 Nov 13  2017 aame.us.txt\r\n",
      "-rwxr-xr-x@ 1 faisal  staff  155628 Nov 13  2017 aan.us.txt\r\n"
     ]
    }
   ],
   "source": [
    "!ls -l dataset/Stocks | head"
   ]
  },
  {
   "cell_type": "code",
   "execution_count": 5,
   "metadata": {
    "scrolled": true
   },
   "outputs": [
    {
     "name": "stdout",
     "output_type": "stream",
     "text": [
      "Date,Open,High,Low,Close,Volume,OpenInt\r",
      "\r\n",
      "2014-10-02,20,20.1,17.6,18.5,2799073,0\r",
      "\r\n",
      "2014-10-03,18.2,18.75,18.05,18.65,155562,0\r",
      "\r\n",
      "2014-10-06,18.48,19.58,18.48,19.24,188229,0\r",
      "\r\n",
      "2014-10-07,19.25,19.48,18.93,19.24,176606,0\r",
      "\r\n",
      "2014-10-08,19.17,19.48,18.9,19.13,37046,0\r",
      "\r\n",
      "2014-10-09,19.16,19.55,19,19.25,114523,0\r",
      "\r\n",
      "2014-10-10,19.25,19.36,18.77,19,34775,0\r",
      "\r\n",
      "2014-10-13,18.92,19.1,18.64,19,52514,0\r",
      "\r\n",
      "2014-10-14,19.03,19.03,17.91,18.1,126457,0\r",
      "\r\n"
     ]
    }
   ],
   "source": [
    "!cat dataset/Stocks/aac.us.txt | head"
   ]
  },
  {
   "cell_type": "code",
   "execution_count": 6,
   "metadata": {},
   "outputs": [
    {
     "name": "stdout",
     "output_type": "stream",
     "text": [
      "1.3G\t.\r\n"
     ]
    }
   ],
   "source": [
    "!du -sh ."
   ]
  },
  {
   "cell_type": "markdown",
   "metadata": {},
   "source": [
    "## Load Datasets"
   ]
  },
  {
   "cell_type": "code",
   "execution_count": 7,
   "metadata": {},
   "outputs": [],
   "source": [
    "@functions.udf\n",
    "def extract_symbol(filename):\n",
    "    return filename.split('/')[-1].split('.')[0]\n",
    "\n",
    "def load_data(session):\n",
    "    df = session.read.format('csv').option('header', 'true').load('dataset/Stocks/*.txt')\n",
    "    df = df.drop('OpenInt')\n",
    "    df = df.withColumn('Symbol', extract_symbol(functions.input_file_name()))\n",
    "    df = df.withColumn('Date', df['Date'].cast('date'))\n",
    "    df = df.withColumn('Open', df['Open'].cast('float'))\n",
    "    df = df.withColumn('High', df['High'].cast('float'))\n",
    "    df = df.withColumn('Low', df['Low'].cast('float'))\n",
    "    df = df.withColumn('Close', df['Close'].cast('float'))\n",
    "    return df"
   ]
  },
  {
   "cell_type": "code",
   "execution_count": 8,
   "metadata": {},
   "outputs": [
    {
     "name": "stdout",
     "output_type": "stream",
     "text": [
      "+----------+------+------+------+------+-------+------+\n",
      "|      Date|  Open|  High|   Low| Close| Volume|Symbol|\n",
      "+----------+------+------+------+------+-------+------+\n",
      "|1962-01-02|0.6277|0.6362|0.6201|0.6201|2575579|    ge|\n",
      "|1962-01-03|0.6201|0.6201|0.6122|0.6201|1764749|    ge|\n",
      "|1962-01-04|0.6201|0.6201|0.6037|0.6122|2194010|    ge|\n",
      "|1962-01-05|0.6122|0.6122|0.5798|0.5957|3255244|    ge|\n",
      "|1962-01-08|0.5957|0.5957|0.5716|0.5957|3696430|    ge|\n",
      "|1962-01-09|0.5957|0.6037|0.5878|0.5957|2778285|    ge|\n",
      "|1962-01-10|0.5957|0.6037|0.5957|0.5957|2337096|    ge|\n",
      "|1962-01-11|0.5957|0.5957|0.5878|0.5957|1943605|    ge|\n",
      "|1962-01-12|0.5957|0.6037|0.5878|0.5878|2015151|    ge|\n",
      "|1962-01-15|0.5957|0.5957|0.5957|0.5957|2527879|    ge|\n",
      "+----------+------+------+------+------+-------+------+\n",
      "only showing top 10 rows\n",
      "\n"
     ]
    }
   ],
   "source": [
    "load = load_data(sess)\n",
    "load.show(10)"
   ]
  },
  {
   "cell_type": "markdown",
   "metadata": {},
   "source": [
    "## Technical Indicator"
   ]
  },
  {
   "cell_type": "markdown",
   "metadata": {},
   "source": [
    "### Moving Average"
   ]
  },
  {
   "cell_type": "code",
   "execution_count": 60,
   "metadata": {},
   "outputs": [],
   "source": [
    "days = lambda i: i * 86400 \n",
    "\n",
    "def moving_average(df, symbol, day):\n",
    "    df = df.where(df['Symbol'] == symbol.lower())\n",
    "    \n",
    "    w = (Window()\n",
    "         .orderBy(functions.unix_timestamp(df['Date']))\n",
    "         .rangeBetween(-days(day), 0))\n",
    "\n",
    "    return df.withColumn('MA', functions.avg('Close').over(w))"
   ]
  },
  {
   "cell_type": "code",
   "execution_count": 79,
   "metadata": {},
   "outputs": [
    {
     "name": "stdout",
     "output_type": "stream",
     "text": [
      "+----------+-------+-------+-------+-------+--------+------+-------------------+\n",
      "|      Date|   Open|   High|    Low|  Close|  Volume|Symbol|                 MA|\n",
      "+----------+-------+-------+-------+-------+--------+------+-------------------+\n",
      "|1984-09-07|0.42388|0.42902|0.41874|0.42388|23220030|  aapl|  0.423880010843277|\n",
      "|1984-09-10|0.42388|0.42516|0.41366|0.42134|18022532|  aapl|0.42260999977588654|\n",
      "|1984-09-11|0.42516|0.43668|0.42516|0.42902|42498199|  aapl|0.42474666237831116|\n",
      "|1984-09-12|0.42902|0.43157|0.41618|0.41618|37125801|  aapl|  0.422605000436306|\n",
      "|1984-09-13|0.43927|0.44052|0.43927|0.43927|57822062|  aapl| 0.4259379982948303|\n",
      "+----------+-------+-------+-------+-------+--------+------+-------------------+\n",
      "only showing top 5 rows\n",
      "\n"
     ]
    }
   ],
   "source": [
    "# moving averang 100, symbol aapl (Apple)\n",
    "aapl = moving_average(load, 'aapl', 100)\n",
    "aapl.show(5)"
   ]
  },
  {
   "cell_type": "code",
   "execution_count": 80,
   "metadata": {},
   "outputs": [],
   "source": [
    "def graph_ma(df):\n",
    "    sns.lineplot(data=df, palette=\"tab10\", linewidth=2.5)"
   ]
  },
  {
   "cell_type": "code",
   "execution_count": 81,
   "metadata": {},
   "outputs": [
    {
     "data": {
      "image/png": "[encoded data removed]",
      "text/plain": [
       "<Figure size 432x288 with 1 Axes>"
      ]
     },
     "metadata": {
      "needs_background": "light"
     },
     "output_type": "display_data"
    }
   ],
   "source": [
    "pandas = aapl.select('Close', 'MA').orderBy(aapl['Date'].desc()).limit(500).orderBy(aapl['Date']).toPandas()\n",
    "graph_ma(pandas)"
   ]
  },
  {
   "cell_type": "code",
   "execution_count": null,
   "metadata": {},
   "outputs": [],
   "source": []
  }
 ],
 "metadata": {
  "kernelspec": {
   "display_name": "Python 3",
   "language": "python",
   "name": "python3"
  },
  "language_info": {
   "codemirror_mode": {
    "name": "ipython",
    "version": 3
   },
   "file_extension": ".py",
   "mimetype": "text/x-python",
   "name": "python",
   "nbconvert_exporter": "python",
   "pygments_lexer": "ipython3",
   "version": "3.7.2"
  }
 },
 "nbformat": 4,
 "nbformat_minor": 2
}
