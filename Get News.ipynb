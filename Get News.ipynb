{
 "cells": [
  {
   "cell_type": "code",
   "execution_count": 1,
   "metadata": {},
   "outputs": [],
   "source": [
    "import requests\n",
    "from lxml import html\n",
    "from collections import namedtuple\n",
    "from lxml import etree\n",
    "from newspaper import Article"
   ]
  },
  {
   "cell_type": "markdown",
   "metadata": {},
   "source": [
    "## Insight Kontan"
   ]
  },
  {
   "cell_type": "code",
   "execution_count": 2,
   "metadata": {},
   "outputs": [],
   "source": [
    "def get_page(offset=None):\n",
    "    url = \"https://insight.kontan.co.id/ajak/loadmore_search\"\n",
    "    \n",
    "    if offset is not None:\n",
    "            url = f\"{url}?offset={offset}\"\n",
    "\n",
    "    response = requests.get(\"https://insight.kontan.co.id/ajak/loadmore_search\")\n",
    "    return response.content\n",
    "\n",
    "\n",
    "def extract_link(page):\n",
    "    el = html.fromstring(page)\n",
    "    url = el.xpath(\"/html/body/ul/li/h2/a/@href\")\n",
    "    \n",
    "    # add https\n",
    "    url = [\"https:\" + u for u in url]\n",
    "    return url\n",
    "\n",
    "\n",
    "def link_article():\n",
    "    result = []\n",
    "    \n",
    "    # get until offset 990\n",
    "    for i in range(99):\n",
    "        offset = i * 10\n",
    "        page = get_page(offset)\n",
    "        links = extract_link(page)\n",
    "        result.extend(links)\n",
    "        \n",
    "    return result"
   ]
  },
  {
   "cell_type": "code",
   "execution_count": 3,
   "metadata": {},
   "outputs": [],
   "source": [
    "links = link_article()"
   ]
  },
  {
   "cell_type": "code",
   "execution_count": 4,
   "metadata": {},
   "outputs": [
    {
     "data": {
      "text/plain": [
       "980"
      ]
     },
     "execution_count": 4,
     "metadata": {},
     "output_type": "execute_result"
    }
   ],
   "source": [
    "len(links)"
   ]
  },
  {
   "cell_type": "markdown",
   "metadata": {},
   "source": [
    "## Using newspaper"
   ]
  },
  {
   "cell_type": "code",
   "execution_count": 24,
   "metadata": {},
   "outputs": [],
   "source": [
    "import newspaper\n",
    "from newspaper import fulltext"
   ]
  },
  {
   "cell_type": "code",
   "execution_count": 19,
   "metadata": {},
   "outputs": [],
   "source": [
    "kontan = newspaper.build('http://kontan.co.id')"
   ]
  },
  {
   "cell_type": "code",
   "execution_count": 20,
   "metadata": {},
   "outputs": [],
   "source": [
    "links2 = [url for url in kontan.article_urls()]"
   ]
  },
  {
   "cell_type": "code",
   "execution_count": 21,
   "metadata": {},
   "outputs": [],
   "source": [
    "# link in insight\n",
    "newspaper_link = [i for i in links if \"insight\" in i]"
   ]
  },
  {
   "cell_type": "code",
   "execution_count": 22,
   "metadata": {},
   "outputs": [
    {
     "data": {
      "text/plain": [
       "980"
      ]
     },
     "execution_count": 22,
     "metadata": {},
     "output_type": "execute_result"
    }
   ],
   "source": [
    "len(newspaper_link)"
   ]
  },
  {
   "cell_type": "code",
   "execution_count": null,
   "metadata": {},
   "outputs": [],
   "source": []
  }
 ],
 "metadata": {
  "kernelspec": {
   "display_name": "Python 3",
   "language": "python",
   "name": "python3"
  },
  "language_info": {
   "codemirror_mode": {
    "name": "ipython",
    "version": 3
   },
   "file_extension": ".py",
   "mimetype": "text/x-python",
   "name": "python",
   "nbconvert_exporter": "python",
   "pygments_lexer": "ipython3",
   "version": "3.7.2"
  }
 },
 "nbformat": 4,
 "nbformat_minor": 2
}
