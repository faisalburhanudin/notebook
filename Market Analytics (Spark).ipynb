{
 "cells": [
  {
   "cell_type": "code",
   "execution_count": 36,
   "metadata": {
    "pycharm": {
     "is_executing": false
    }
   },
   "outputs": [],
   "source": [
    "from pyspark.sql import SparkSession\n",
    "from pyspark.sql import functions\n",
    "from pyspark.sql.functions import udf"
   ]
  },
  {
   "cell_type": "code",
   "execution_count": 37,
   "metadata": {
    "pycharm": {
     "is_executing": false
    }
   },
   "outputs": [],
   "source": [
    "def get_session():\n",
    "    return SparkSession \\\n",
    "        .builder \\\n",
    "        .appName(\"Market Analytics\") \\\n",
    "        .config(\"spark.some.config.option\", \"some-value\") \\\n",
    "        .getOrCreate()"
   ]
  },
  {
   "cell_type": "code",
   "execution_count": 38,
   "metadata": {
    "pycharm": {
     "is_executing": false
    }
   },
   "outputs": [],
   "source": [
    "sess = get_session()"
   ]
  },
  {
   "cell_type": "code",
   "execution_count": 39,
   "metadata": {
    "pycharm": {
     "is_executing": false
    }
   },
   "outputs": [],
   "source": [
    "def load_data(session):\n",
    "    return session.read.format(\"csv\").option(\"header\", \"true\").load(\"dataset/raw.csv\")"
   ]
  },
  {
   "cell_type": "code",
   "execution_count": 40,
   "metadata": {
    "pycharm": {
     "is_executing": false
    }
   },
   "outputs": [
    {
     "name": "stdout",
     "output_type": "stream",
     "text": [
      "+--------------------+---------+---------+---------+--------------------+--------------------+\n",
      "|          breadcrumb|item_sold|      pid|    price|               title|                 url|\n",
      "+--------------------+---------+---------+---------+--------------------+--------------------+\n",
      "|Dapur ;Bekal ;Cup...|        2|389668528|   70.000|Mayonnaise & Ketc...|https://www.tokop...|\n",
      "|Rumah Tangga ;Keb...|        0|390053120|  160.000|BOLDe Super BROOM...|https://www.tokop...|\n",
      "|Perawatan Hewan ;...|        0|390055891|1.100.000|Two Tone Brown (S...|https://www.tokop...|\n",
      "|Fashion Muslim ;P...|        0|389610348|  325.000|MUKENA ALDIVA har...|https://www.tokop...|\n",
      "|     Produk Lainnya |        1|389666117|  179.900|terpal kolam kota...|https://www.tokop...|\n",
      "+--------------------+---------+---------+---------+--------------------+--------------------+\n",
      "only showing top 5 rows\n",
      "\n"
     ]
    }
   ],
   "source": [
    "load = load_data(sess)\n",
    "load.show(5)"
   ]
  },
  {
   "cell_type": "code",
   "execution_count": 41,
   "metadata": {
    "pycharm": {
     "is_executing": false
    }
   },
   "outputs": [],
   "source": [
    "def clean_dataframe(df):\n",
    "    return df.where(\n",
    "        df['item_sold'].isNotNull() & df['pid'].isNotNull() & \\\n",
    "        df['pid'].isNotNull() & df['price'].isNotNull() & \\\n",
    "        df['title'].isNotNull() & df['url'].isNotNull() & \\\n",
    "        ~df['item_sold'].like(\"http%\") & \\\n",
    "        df['url'].like(\"http%\")\n",
    "    )"
   ]
  },
  {
   "cell_type": "code",
   "execution_count": 42,
   "metadata": {
    "pycharm": {
     "is_executing": false
    }
   },
   "outputs": [],
   "source": [
    "clean = clean_dataframe(load)"
   ]
  },
  {
   "cell_type": "code",
   "execution_count": 43,
   "metadata": {
    "pycharm": {
     "is_executing": false
    }
   },
   "outputs": [],
   "source": [
    "@udf\n",
    "def extract_seller(x):\n",
    "    return x.split(\"/\")[3]\n",
    "\n",
    "@udf\n",
    "def extract_seller_url(seller):\n",
    "    return 'https://www.tokopedia.com/' + seller\n",
    "\n",
    "@udf\n",
    "def price(x):\n",
    "    return int(x.replace(\".\", \"\"))\n",
    "\n",
    "\n",
    "def extract_dataframe(df):\n",
    "    df = df.withColumn('seller', extract_seller(df.url))\n",
    "    df = df.withColumn('seller_url', extract_seller_url(df.seller))\n",
    "    df = df.withColumn('item_sold', df.item_sold.cast(\"int\"))\n",
    "    df = df.withColumn('price', price(df.price))\n",
    "    return df"
   ]
  },
  {
   "cell_type": "code",
   "execution_count": 44,
   "metadata": {
    "pycharm": {
     "is_executing": false
    }
   },
   "outputs": [],
   "source": [
    "extract = extract_dataframe(clean)"
   ]
  },
  {
   "cell_type": "code",
   "execution_count": 45,
   "metadata": {},
   "outputs": [
    {
     "data": {
      "text/plain": [
       "1281242"
      ]
     },
     "execution_count": 45,
     "metadata": {},
     "output_type": "execute_result"
    }
   ],
   "source": [
    "extract.count()"
   ]
  },
  {
   "cell_type": "code",
   "execution_count": 49,
   "metadata": {},
   "outputs": [
    {
     "data": {
      "text/plain": [
       "1281242"
      ]
     },
     "execution_count": 49,
     "metadata": {},
     "output_type": "execute_result"
    }
   ],
   "source": [
    "extract.select(\"pid\").drop_duplicates().count()"
   ]
  },
  {
   "cell_type": "markdown",
   "metadata": {
    "pycharm": {}
   },
   "source": [
    "## Total Transaction (QTY)"
   ]
  },
  {
   "cell_type": "code",
   "execution_count": 13,
   "metadata": {
    "pycharm": {
     "is_executing": false
    }
   },
   "outputs": [],
   "source": [
    "def get_total_transaction(df):\n",
    "    return df.agg(functions.sum('item_sold')).first()[0]"
   ]
  },
  {
   "cell_type": "code",
   "execution_count": 1,
   "metadata": {
    "pycharm": {
     "is_executing": false
    }
   },
   "outputs": [
    {
     "ename": "NameError",
     "evalue": "name 'get_total_transaction' is not defined",
     "output_type": "error",
     "traceback": [
      "\u001b[0;31m---------------------------------------------------------------------------\u001b[0m",
      "\u001b[0;31mNameError\u001b[0m                                 Traceback (most recent call last)",
      "\u001b[0;32m<ipython-input-1-04c59a9f3b64>\u001b[0m in \u001b[0;36m<module>\u001b[0;34m\u001b[0m\n\u001b[0;32m----> 1\u001b[0;31m \u001b[0mget_total_transaction\u001b[0m\u001b[0;34m(\u001b[0m\u001b[0mextract\u001b[0m\u001b[0;34m)\u001b[0m\u001b[0;34m\u001b[0m\u001b[0;34m\u001b[0m\u001b[0m\n\u001b[0m",
      "\u001b[0;31mNameError\u001b[0m: name 'get_total_transaction' is not defined"
     ]
    }
   ],
   "source": [
    "get_total_transaction(extract)"
   ]
  },
  {
   "cell_type": "markdown",
   "metadata": {
    "pycharm": {}
   },
   "source": [
    "## Total Transaction (Rupiah)"
   ]
  },
  {
   "cell_type": "code",
   "execution_count": 12,
   "metadata": {
    "pycharm": {
     "is_executing": false
    }
   },
   "outputs": [],
   "source": [
    "def get_omset(df):\n",
    "    return df.agg(functions.sum('price')).first()[0]"
   ]
  },
  {
   "cell_type": "code",
   "execution_count": 13,
   "metadata": {
    "pycharm": {
     "is_executing": false
    }
   },
   "outputs": [
    {
     "data": {
      "text/plain": [
       "862413587916.0"
      ]
     },
     "execution_count": 13,
     "metadata": {},
     "output_type": "execute_result"
    }
   ],
   "source": [
    "get_omset(extract)"
   ]
  },
  {
   "cell_type": "markdown",
   "metadata": {
    "pycharm": {}
   },
   "source": [
    "## Total Seller"
   ]
  },
  {
   "cell_type": "code",
   "execution_count": 14,
   "metadata": {
    "pycharm": {
     "is_executing": false
    }
   },
   "outputs": [],
   "source": [
    "def get_total_seller(df):\n",
    "    return df.select('seller').distinct().count()"
   ]
  },
  {
   "cell_type": "code",
   "execution_count": 15,
   "metadata": {
    "pycharm": {
     "is_executing": false
    }
   },
   "outputs": [
    {
     "data": {
      "text/plain": [
       "90144"
      ]
     },
     "execution_count": 15,
     "metadata": {},
     "output_type": "execute_result"
    }
   ],
   "source": [
    "get_total_seller(extract)"
   ]
  },
  {
   "cell_type": "markdown",
   "metadata": {
    "pycharm": {}
   },
   "source": [
    "## Total Product"
   ]
  },
  {
   "cell_type": "code",
   "execution_count": 16,
   "metadata": {
    "pycharm": {
     "is_executing": false
    }
   },
   "outputs": [],
   "source": [
    "def get_total_product(df):\n",
    "    return df.count()"
   ]
  },
  {
   "cell_type": "code",
   "execution_count": 17,
   "metadata": {
    "pycharm": {
     "is_executing": false
    }
   },
   "outputs": [
    {
     "data": {
      "text/plain": [
       "1281242"
      ]
     },
     "execution_count": 17,
     "metadata": {},
     "output_type": "execute_result"
    }
   ],
   "source": [
    "get_total_product(extract)"
   ]
  },
  {
   "cell_type": "markdown",
   "metadata": {
    "pycharm": {}
   },
   "source": [
    "## 10 Best Selling"
   ]
  },
  {
   "cell_type": "code",
   "execution_count": 27,
   "metadata": {
    "pycharm": {
     "is_executing": false
    }
   },
   "outputs": [],
   "source": [
    "def get_best_selling(df):\n",
    "    return df.groupBy('pid').agg(functions.sum('item_sold').alias('sale')).orderBy(functions.desc('sale'))"
   ]
  },
  {
   "cell_type": "code",
   "execution_count": 28,
   "metadata": {
    "pycharm": {
     "is_executing": false
    }
   },
   "outputs": [],
   "source": [
    "def selling_to_dict(df):\n",
    "    rows = df.collect()\n",
    "    \n",
    "    result = []\n",
    "    for r in rows:\n",
    "        result.append({\n",
    "            \"pid\": r.pid,\n",
    "            \"sale\": r.sale\n",
    "        })\n",
    "    return result"
   ]
  },
  {
   "cell_type": "code",
   "execution_count": 29,
   "metadata": {
    "pycharm": {}
   },
   "outputs": [
    {
     "data": {
      "text/plain": [
       "[{'pid': '315500698', 'sale': 105400},\n",
       " {'pid': '106556412', 'sale': 97155},\n",
       " {'pid': '110892467', 'sale': 88119},\n",
       " {'pid': '107184722', 'sale': 77750},\n",
       " {'pid': '101040765', 'sale': 73713},\n",
       " {'pid': '207550504', 'sale': 72713},\n",
       " {'pid': '102077448', 'sale': 65455},\n",
       " {'pid': '105978964', 'sale': 64986},\n",
       " {'pid': '105110726', 'sale': 56123},\n",
       " {'pid': '106156810', 'sale': 49900}]"
      ]
     },
     "execution_count": 29,
     "metadata": {},
     "output_type": "execute_result"
    }
   ],
   "source": [
    "best_selling = get_best_selling(extract).limit(10)\n",
    "selling_to_dict(best_selling)"
   ]
  },
  {
   "cell_type": "markdown",
   "metadata": {
    "pycharm": {}
   },
   "source": [
    "## 10 Best Seller"
   ]
  },
  {
   "cell_type": "code",
   "execution_count": 20,
   "metadata": {
    "pycharm": {
     "is_executing": false
    }
   },
   "outputs": [],
   "source": [
    "def get_best_seller(df):\n",
    "    return df.groupBy('seller').agg(functions.sum('item_sold').alias('sale')).orderBy(functions.desc('sale'))"
   ]
  },
  {
   "cell_type": "code",
   "execution_count": 30,
   "metadata": {
    "pycharm": {}
   },
   "outputs": [],
   "source": [
    "def seller_to_dict(df):\n",
    "    rows = df.collect()\n",
    "    \n",
    "    result = []\n",
    "    for r in rows:\n",
    "        result.append({\n",
    "            \"seller\": r.seller,\n",
    "            \"sale\": r.sale\n",
    "        })\n",
    "    return result"
   ]
  },
  {
   "cell_type": "code",
   "execution_count": 31,
   "metadata": {
    "pycharm": {
     "is_executing": false
    }
   },
   "outputs": [
    {
     "data": {
      "text/plain": [
       "[{'seller': 'rgaksesorishp', 'sale': 215670},\n",
       " {'seller': 'BAZAARFASHION', 'sale': 171702},\n",
       " {'seller': 'reawstore', 'sale': 142616},\n",
       " {'seller': 'tokosabilah', 'sale': 117575},\n",
       " {'seller': 'mode-packaging', 'sale': 115712},\n",
       " {'seller': 'agenkurma', 'sale': 112732},\n",
       " {'seller': 'ikadella', 'sale': 105400},\n",
       " {'seller': 'tokokainflanel1', 'sale': 104590},\n",
       " {'seller': 'platinumpack', 'sale': 100852},\n",
       " {'seller': '190spt', 'sale': 100680}]"
      ]
     },
     "execution_count": 31,
     "metadata": {},
     "output_type": "execute_result"
    }
   ],
   "source": [
    "best_seller = get_best_seller(extract).limit(10)\n",
    "seller_to_dict(best_seller)"
   ]
  },
  {
   "cell_type": "code",
   "execution_count": null,
   "metadata": {
    "pycharm": {
     "is_executing": true
    }
   },
   "outputs": [],
   "source": []
  }
 ],
 "metadata": {
  "kernelspec": {
   "display_name": "Python 3",
   "language": "python",
   "name": "python3"
  },
  "language_info": {
   "codemirror_mode": {
    "name": "ipython",
    "version": 3
   },
   "file_extension": ".py",
   "mimetype": "text/x-python",
   "name": "python",
   "nbconvert_exporter": "python",
   "pygments_lexer": "ipython3",
   "version": "3.7.2"
  }
 },
 "nbformat": 4,
 "nbformat_minor": 2
}
