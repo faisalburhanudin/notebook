{
  "cells": [
    {
      "cell_type": "code",
      "execution_count": 10,
      "metadata": {
        "pycharm": {}
      },
      "outputs": [],
      "source": "from pyspark.sql import SparkSession\nfrom pyspark.sql import functions\nfrom pyspark.sql.functions import udf"
    },
    {
      "cell_type": "code",
      "execution_count": 2,
      "metadata": {
        "pycharm": {}
      },
      "outputs": [],
      "source": [
        "spark \u003d SparkSession \\\n",
        "    .builder \\\n",
        "    .appName(\"Market Analytics\") \\\n",
        "    .config(\"spark.some.config.option\", \"some-value\") \\\n",
        "    .getOrCreate()"
      ]
    },
    {
      "cell_type": "markdown",
      "metadata": {
        "pycharm": {}
      },
      "source": [
        "## Load dataset"
      ]
    },
    {
      "cell_type": "code",
      "execution_count": 3,
      "metadata": {
        "pycharm": {}
      },
      "outputs": [
        {
          "name": "stdout",
          "output_type": "stream",
          "text": [
            "+--------------------+---------+---------+---------+--------------------+--------------------+\n",
            "|          breadcrumb|item_sold|      pid|    price|               title|                 url|\n",
            "+--------------------+---------+---------+---------+--------------------+--------------------+\n",
            "|Dapur ;Bekal ;Cup...|        2|389668528|   70.000|Mayonnaise \u0026 Ketc...|https://www.tokop...|\n",
            "|Rumah Tangga ;Keb...|        0|390053120|  160.000|BOLDe Super BROOM...|https://www.tokop...|\n",
            "|Perawatan Hewan ;...|        0|390055891|1.100.000|Two Tone Brown (S...|https://www.tokop...|\n",
            "|Fashion Muslim ;P...|        0|389610348|  325.000|MUKENA ALDIVA har...|https://www.tokop...|\n",
            "|     Produk Lainnya |        1|389666117|  179.900|terpal kolam kota...|https://www.tokop...|\n",
            "|Fashion Pria ;Aks...|        0|389609406|   58.000|TOPI TRUCKER CONS...|https://www.tokop...|\n",
            "|Makanan \u0026 Minuman...|        0|389613659|  195.000|ARTE CHOCOLATE ( ...|https://www.tokop...|\n",
            "|Perawatan Hewan ;...|        2|389671338|   10.000|Pakan Makanan Bur...|https://www.tokop...|\n",
            "|Handphone \u0026 Table...|        0|389669308|   19.900|            mito 131|https://www.tokop...|\n",
            "|Handphone \u0026 Table...|        0|390050938|1.399.000|XIAOMI REDMI NOTE...|https://www.tokop...|\n",
            "|Kamera ;Kamera Di...|        0|390050909|5.500.000|CAMERA FUJIFILM X...|https://www.tokop...|\n",
            "|Kamera ;Aksesoris...|        4|390050797|  100.000|Tripod SLR /tripo...|https://www.tokop...|\n",
            "|Fashion Pria ;Ata...|       22|390048595|  500.002|Polo Shirt Lacos ...|https://www.tokop...|\n",
            "|Dapur ;Food \u0026 Dri...|        2|390053998|2.000.000|HAKASIMA PUKIS MA...|https://www.tokop...|\n",
            "|Fashion Wanita ;S...|        0|390053488|  249.000|BEST SELLER SEPAT...|https://www.tokop...|\n",
            "|Fashion Wanita ;S...|        0|390053471|  249.000|BEST SELLER SEPAT...|https://www.tokop...|\n",
            "|Fashion Wanita ;S...|        0|390053502|  249.000|BEST SELLER SEPAT...|https://www.tokop...|\n",
            "|Fashion Wanita ;S...|        0|390053473|  249.000|BEST SELLER SEPAT...|https://www.tokop...|\n",
            "|Fashion Wanita ;S...|        0|390055100|  249.000|TOP SELLER SEPATU...|https://www.tokop...|\n",
            "|Fashion Wanita ;S...|        0|390053504|  249.000|BEST SELLER SEPAT...|https://www.tokop...|\n",
            "+--------------------+---------+---------+---------+--------------------+--------------------+\n",
            "only showing top 20 rows\n",
            "\n"
          ]
        }
      ],
      "source": [
        "df \u003d spark.read.format(\"csv\").option(\"header\", \"true\").load(\"dataset/tokopedia.csv\")\n",
        "df.show()"
      ]
    },
    {
      "cell_type": "code",
      "execution_count": 4,
      "metadata": {
        "pycharm": {}
      },
      "outputs": [
        {
          "data": {
            "text/plain": [
              "[(\u0027breadcrumb\u0027, \u0027string\u0027),\n",
              " (\u0027item_sold\u0027, \u0027string\u0027),\n",
              " (\u0027pid\u0027, \u0027string\u0027),\n",
              " (\u0027price\u0027, \u0027string\u0027),\n",
              " (\u0027title\u0027, \u0027string\u0027),\n",
              " (\u0027url\u0027, \u0027string\u0027)]"
            ]
          },
          "execution_count": 4,
          "metadata": {},
          "output_type": "execute_result"
        }
      ],
      "source": [
        "df.dtypes"
      ]
    },
    {
      "cell_type": "code",
      "execution_count": 5,
      "metadata": {
        "pycharm": {}
      },
      "outputs": [],
      "source": [
        "# some data have null in item_sold, pid, price, url\n",
        "df \u003d df.where(df[\u0027item_sold\u0027].isNotNull())\\\n",
        "    .where(df[\u0027pid\u0027].isNotNull())\\\n",
        "    .where(df[\u0027price\u0027].isNotNull())\\\n",
        "    .where(df[\u0027title\u0027].isNotNull())\\\n",
        "    .where(df[\u0027url\u0027].isNotNull())\n",
        "\n",
        "# remove wrong value\n",
        "df \u003d df.rdd.filter(lambda x: \"http\" not in x[\u0027item_sold\u0027])\\\n",
        "    .filter(lambda x: \"http\" in x[\u0027url\u0027]).toDF()"
      ]
    },
    {
      "cell_type": "code",
      "execution_count": 34,
      "metadata": {
        "pycharm": {}
      },
      "outputs": [
        {
          "name": "stdout",
          "output_type": "stream",
          "text": [
            "+--------------------+---------+---------+-------+--------------------+--------------------+----------------+--------------------+\n",
            "|          breadcrumb|item_sold|      pid|  price|               title|                 url|          seller|          seller_url|\n",
            "+--------------------+---------+---------+-------+--------------------+--------------------+----------------+--------------------+\n",
            "|Dapur ;Bekal ;Cup...|        2|389668528|  70000|Mayonnaise \u0026 Ketc...|https://www.tokop...|      mkfamstore|https://www.tokop...|\n",
            "|Rumah Tangga ;Keb...|        0|390053120| 160000|BOLDe Super BROOM...|https://www.tokop...|  bolde-official|https://www.tokop...|\n",
            "|Perawatan Hewan ;...|        0|390055891|1100000|Two Tone Brown (S...|https://www.tokop...| vodkalattestore|https://www.tokop...|\n",
            "|Fashion Muslim ;P...|        0|389610348| 325000|MUKENA ALDIVA har...|https://www.tokop...|     maisyahijab|https://www.tokop...|\n",
            "|     Produk Lainnya |        1|389666117| 179900|terpal kolam kota...|https://www.tokop...|    jawaraterpal|https://www.tokop...|\n",
            "|Fashion Pria ;Aks...|        0|389609406|  58000|TOPI TRUCKER CONS...|https://www.tokop...|           mocin|https://www.tokop...|\n",
            "|Makanan \u0026 Minuman...|        0|389613659| 195000|ARTE CHOCOLATE ( ...|https://www.tokop...|     toserbacafe|https://www.tokop...|\n",
            "|Perawatan Hewan ;...|        2|389671338|  10000|Pakan Makanan Bur...|https://www.tokop...|    kiosfdkgroup|https://www.tokop...|\n",
            "|Handphone \u0026 Table...|        0|389669308|  19900|            mito 131|https://www.tokop...|    mboy-ol-shop|https://www.tokop...|\n",
            "|Handphone \u0026 Table...|        0|390050938|1399000|XIAOMI REDMI NOTE...|https://www.tokop...|bluecherryiphone|https://www.tokop...|\n",
            "|Kamera ;Kamera Di...|        0|390050909|5500000|CAMERA FUJIFILM X...|https://www.tokop...|infinitestore888|https://www.tokop...|\n",
            "|Kamera ;Aksesoris...|        4|390050797| 100000|Tripod SLR /tripo...|https://www.tokop...|       riosmarts|https://www.tokop...|\n",
            "|Fashion Pria ;Ata...|       22|390048595| 500002|Polo Shirt Lacos ...|https://www.tokop...|rofianazuliyajay|https://www.tokop...|\n",
            "|Dapur ;Food \u0026 Dri...|        2|390053998|2000000|HAKASIMA PUKIS MA...|https://www.tokop...|     sendymarket|https://www.tokop...|\n",
            "|Fashion Wanita ;S...|        0|390053488| 249000|BEST SELLER SEPAT...|https://www.tokop...|  sportstation01|https://www.tokop...|\n",
            "|Fashion Wanita ;S...|        0|390053471| 249000|BEST SELLER SEPAT...|https://www.tokop...|  sportstation01|https://www.tokop...|\n",
            "|Fashion Wanita ;S...|        0|390053502| 249000|BEST SELLER SEPAT...|https://www.tokop...|  sportstation01|https://www.tokop...|\n",
            "|Fashion Wanita ;S...|        0|390053473| 249000|BEST SELLER SEPAT...|https://www.tokop...|  sportstation01|https://www.tokop...|\n",
            "|Fashion Wanita ;S...|        0|390055100| 249000|TOP SELLER SEPATU...|https://www.tokop...|  sportstation01|https://www.tokop...|\n",
            "|Fashion Wanita ;S...|        0|390053504| 249000|BEST SELLER SEPAT...|https://www.tokop...|  sportstation01|https://www.tokop...|\n",
            "+--------------------+---------+---------+-------+--------------------+--------------------+----------------+--------------------+\n",
            "only showing top 20 rows\n",
            "\n"
          ]
        }
      ],
      "source": [
        "@udf\n",
        "def extract_seller(x):\n",
        "    return x.split(\"/\")[3]\n",
        "\n",
        "@udf\n",
        "def extract_seller_url(seller):\n",
        "    return \u0027https://www.tokopedia.com/\u0027 + seller\n",
        "\n",
        "@udf\n",
        "def price(x):\n",
        "    return int(x.replace(\".\", \"\"))\n",
        "\n",
        "# extract more data\n",
        "df \u003d df.withColumn(\u0027seller\u0027, extract_seller(df.url))\n",
        "df \u003d df.withColumn(\u0027seller_url\u0027, extract_seller_url(df.seller))\n",
        "df \u003d df.withColumn(\u0027item_sold\u0027, df.item_sold.cast(\"int\"))\n",
        "df \u003d df.withColumn(\u0027price\u0027, price(df.price))\n",
        "\n",
        "df.show()"
      ]
    },
    {
      "cell_type": "markdown",
      "metadata": {
        "pycharm": {}
      },
      "source": [
        "## Total Transaction (QTY)"
      ]
    },
    {
      "cell_type": "code",
      "execution_count": 35,
      "metadata": {
        "pycharm": {}
      },
      "outputs": [
        {
          "data": {
            "text/plain": [
              "12298304"
            ]
          },
          "execution_count": 35,
          "metadata": {},
          "output_type": "execute_result"
        }
      ],
      "source": [
        "quantities \u003d df.agg(functions.sum(\u0027item_sold\u0027)).first()\n",
        "quantities[0]"
      ]
    },
    {
      "cell_type": "markdown",
      "metadata": {
        "pycharm": {}
      },
      "source": [
        "## Total Transaction (Rupiah)"
      ]
    },
    {
      "cell_type": "code",
      "execution_count": 36,
      "metadata": {
        "pycharm": {}
      },
      "outputs": [
        {
          "data": {
            "text/plain": [
              "862586607816.0"
            ]
          },
          "execution_count": 36,
          "metadata": {},
          "output_type": "execute_result"
        }
      ],
      "source": [
        "transactions \u003d df.agg(functions.sum(\u0027price\u0027)).first()\n",
        "transactions[0]"
      ]
    },
    {
      "cell_type": "markdown",
      "metadata": {
        "pycharm": {}
      },
      "source": [
        "## Total Seller"
      ]
    },
    {
      "cell_type": "code",
      "execution_count": 39,
      "metadata": {
        "pycharm": {}
      },
      "outputs": [
        {
          "data": {
            "text/plain": [
              "90144"
            ]
          },
          "execution_count": 39,
          "metadata": {},
          "output_type": "execute_result"
        }
      ],
      "source": [
        "df.select(\u0027seller\u0027).distinct().count()"
      ]
    },
    {
      "cell_type": "markdown",
      "metadata": {
        "pycharm": {}
      },
      "source": [
        "## Total Product"
      ]
    },
    {
      "cell_type": "code",
      "execution_count": 40,
      "metadata": {
        "pycharm": {}
      },
      "outputs": [
        {
          "data": {
            "text/plain": [
              "1281288"
            ]
          },
          "execution_count": 40,
          "metadata": {},
          "output_type": "execute_result"
        }
      ],
      "source": [
        "df.count()"
      ]
    },
    {
      "cell_type": "markdown",
      "metadata": {
        "pycharm": {}
      },
      "source": [
        "## 10 Best Selling"
      ]
    },
    {
      "cell_type": "code",
      "execution_count": 46,
      "metadata": {
        "pycharm": {}
      },
      "outputs": [
        {
          "name": "stdout",
          "output_type": "stream",
          "text": [
            "+---------+------+\n",
            "|      pid|  sale|\n",
            "+---------+------+\n",
            "|315500698|105400|\n",
            "|106556412| 97155|\n",
            "|110892467| 88119|\n",
            "|107184722| 77750|\n",
            "|101040765| 73713|\n",
            "|207550504| 72713|\n",
            "|102077448| 65455|\n",
            "|105978964| 64986|\n",
            "|105110726| 56123|\n",
            "|106156810| 49900|\n",
            "+---------+------+\n",
            "only showing top 10 rows\n",
            "\n"
          ]
        }
      ],
      "source": [
        "df.groupBy(\u0027pid\u0027).agg(functions.sum(\u0027item_sold\u0027).alias(\u0027sale\u0027)).orderBy(functions.desc(\u0027sale\u0027)).show(10)"
      ]
    },
    {
      "cell_type": "markdown",
      "metadata": {
        "pycharm": {}
      },
      "source": [
        "## 10 Best Seller"
      ]
    },
    {
      "cell_type": "code",
      "execution_count": 47,
      "metadata": {
        "pycharm": {}
      },
      "outputs": [
        {
          "name": "stdout",
          "output_type": "stream",
          "text": [
            "+---------------+------+\n",
            "|         seller|  sale|\n",
            "+---------------+------+\n",
            "|  rgaksesorishp|215670|\n",
            "|  BAZAARFASHION|171702|\n",
            "|      reawstore|142616|\n",
            "|    tokosabilah|117575|\n",
            "| mode-packaging|115712|\n",
            "|      agenkurma|112732|\n",
            "|       ikadella|105400|\n",
            "|tokokainflanel1|104590|\n",
            "|   platinumpack|100852|\n",
            "|         190spt|100680|\n",
            "+---------------+------+\n",
            "only showing top 10 rows\n",
            "\n"
          ]
        }
      ],
      "source": [
        "df.groupBy(\u0027seller\u0027).agg(functions.sum(\u0027item_sold\u0027).alias(\u0027sale\u0027)).orderBy(functions.desc(\u0027sale\u0027)).show(10)"
      ]
    },
    {
      "cell_type": "code",
      "execution_count": null,
      "metadata": {
        "pycharm": {}
      },
      "outputs": [],
      "source": []
    }
  ],
  "metadata": {
    "kernelspec": {
      "display_name": "Python 3",
      "language": "python",
      "name": "python3"
    },
    "language_info": {
      "codemirror_mode": {
        "name": "ipython",
        "version": 3
      },
      "file_extension": ".py",
      "mimetype": "text/x-python",
      "name": "python",
      "nbconvert_exporter": "python",
      "pygments_lexer": "ipython3",
      "version": "3.7.1"
    }
  },
  "nbformat": 4,
  "nbformat_minor": 2
}